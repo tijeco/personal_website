{
 "cells": [
  {
   "cell_type": "markdown",
   "metadata": {},
   "source": [
    "[![Open In Colab](https://colab.research.google.com/assets/colab-badge.svg)](https://colab.research.google.com/github/tijeco/personal_website/blob/master/content/post/chi_squared_analysis_on_multiple_sequence_alignment_with_python/chi_squared_analysis_on_multiple_sequence_alignment_with_python.ipynb)\n"
   ]
  },
  {
   "cell_type": "markdown",
   "metadata": {},
   "source": [
    "# Overview\n",
    "\n",
    "For a general chi-square analysis for an alignment it is calulated\n",
    "$$chi2 = sum[i from 1 to k] (O_i - E_i)^2 / E_i$$\n",
    "\n",
    "where k is the size of the alphabet (e.g. 4 for DNA, 20 for amino acids) and the values 1 to k correspond uniquely to one of the nucleotides or amino acids.\n",
    "O_i is the nucleotide or amino acid frequency in the sequence tested.\n",
    "E_i is the nucleotide or amino acid frequency expected from the ‘master’ distribution (e.g. the overall frequencies - depends on what one is using).\n",
    "\n",
    "Whether the nucleotide (or amino acid) composition deviates significantly for the ‘master’ distribution is done by testing the chi2 value using the chi2-distribution with k-1 degrees of freedom (df=3 for DNA or df=19 for amino acids).\n",
    "\n",
    "# Python functions\n",
    "\n",
    "## Loading multiple sequence alignment\n",
    "\n",
    "Using the biopython AlignIO function, we can load in a multiple sequence alignment file of a variety of formats.\n"
   ]
  },
  {
   "cell_type": "code",
   "execution_count": null,
   "metadata": {},
   "outputs": [],
   "source": [
    "alignment_file = \"path/to/alignment.fasta\"\n",
    "alignment = AlignIO.read(open(alignment_file), \"fasta\")"
   ]
  },
  {
   "cell_type": "markdown",
   "metadata": {},
   "source": [
    "## Create composition matrix"
   ]
  },
  {
   "cell_type": "code",
   "execution_count": null,
   "metadata": {},
   "outputs": [],
   "source": [
    "import pandas as pd\n",
    "def compositionMatrix(aln):\n",
    "\tcompDict = {}\n",
    "\tfixedCharacters = [\"-\",\"A\",\"C\",\"D\",\"E\",\"F\",\"G\",\"H\",\"I\",\"K\",\"L\",\"M\",\"N\",\"P\",\"Q\",\"R\",\"S\",\"T\",\"V\",\"W\",\"Y\"]\n",
    "\tfor record in aln:\n",
    "\t\theader = record.id\n",
    "\t\tseq = record.seq\n",
    "\t\tcurrentSeqMat = [0]*21\n",
    "\t\tfor i in range(len(seq)):\n",
    "\t\t\taa = seq[i]\n",
    "\t\t\ttry:\n",
    "\t\t\t\tcharacterPos = fixedCharacters.index(aa)\n",
    "\t\t\t\tcurrentSeqMat[characterPos]+= 1\n",
    "\t\t\texcept:\n",
    "\t\t\t\tprint(\"ERROR:\", header, \"contains character (\"+aa+\") not in the list:\",fixedCharacters)\n",
    "\t\tcompDict[header] = currentSeqMat\n",
    "\tcompDF = pd.DataFrame.from_dict(compDict, orient='index',\n",
    "                       columns=fixedCharacters)\n",
    "\treturn compDF\n"
   ]
  },
  {
   "cell_type": "markdown",
   "metadata": {},
   "source": [
    "## run chi-squared analysis \n"
   ]
  },
  {
   "cell_type": "code",
   "execution_count": null,
   "metadata": {},
   "outputs": [],
   "source": [
    "from scipy import stats\n",
    "import numpy as np\n",
    "import pandas as pd \n",
    "\n",
    "def chi2test(compDF):\n",
    "\tseqTotals = compDF.sum(axis=1)\n",
    "\tgaps = compDF[\"-\"]\n",
    "\tgapsPerSeq = gaps/seqTotals\n",
    "\n",
    "\tnonGap = compDF.loc[:, 'A':'Y']\n",
    "\tnonGapTotals = nonGap.sum().to_frame()\n",
    "\tnonGapSeqTotals = nonGap.sum(axis=1).to_frame()\n",
    "\tnumCharacters = nonGapTotals.sum()\n",
    "\texpectedFreq = nonGapTotals / numCharacters\n",
    "\n",
    "\texpectedCountArray = np.dot(nonGapSeqTotals,expectedFreq.transpose())\n",
    "\texpectedCountDF = pd.DataFrame(expectedCountArray,columns =nonGap.columns, index =nonGap.index.values )\n",
    "\tchi2DF = ((expectedCountDF - nonGap)**2)/expectedCountDF\n",
    "\tchi2Sum = chi2DF.sum(axis=1)\n",
    "\n",
    "\tpValueDf = 1 - stats.chi2.cdf(chi2Sum, 19)\n",
    "\toutDF = pd.DataFrame({\"Gap/Ambiguity\":gapsPerSeq,\"p-value\":pValueDf})\n",
    "\toutDF.index.name='header'\n",
    "\t\n",
    "\treturn outDF\n"
   ]
  }
 ],
 "metadata": {
  "interpreter": {
   "hash": "e774977668b7c0ae8309835a5187aa7fbf7669e7d0bb59755bc63e573643edcd"
  },
  "kernelspec": {
   "display_name": "Python 3.7.2 64-bit",
   "name": "python3"
  },
  "language_info": {
   "name": "python",
   "version": ""
  },
  "orig_nbformat": 4
 },
 "nbformat": 4,
 "nbformat_minor": 2
}